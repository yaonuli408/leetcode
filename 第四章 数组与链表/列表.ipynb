{
 "cells": [
  {
   "cell_type": "markdown",
   "metadata": {},
   "source": [
    "1. 列表，表示元素的有序集合，无须使用者考虑容量限制的问题，列表可以基于链表或数组实现，**可以存储任意类型的元素**\n",
    "2. 为解决数组长度不可变的性质会导致列表的实用性降低的问题，使用**动态数组**来实现列表，**每个元素存储的是指向实际对象的指针**\n",
    "3. 许多编程语言中的标准库提供的列表是基于动态数组实现的"
   ]
  },
  {
   "cell_type": "code",
   "execution_count": 2,
   "metadata": {},
   "outputs": [],
   "source": [
    "# 初始化列表\n",
    "# 无初始值\n",
    "nums1: list[int] = []\n",
    "# 有初始值\n",
    "nums: list[int] = [1, 3, 2, 5, 4]"
   ]
  },
  {
   "cell_type": "code",
   "execution_count": 3,
   "metadata": {},
   "outputs": [],
   "source": [
    "# 访问元素\n",
    "num: int = nums[1]\n",
    "\n",
    "# 更新元素\n",
    "nums[1] = 0"
   ]
  },
  {
   "cell_type": "code",
   "execution_count": 4,
   "metadata": {},
   "outputs": [
    {
     "data": {
      "text/plain": [
       "6"
      ]
     },
     "execution_count": 4,
     "metadata": {},
     "output_type": "execute_result"
    }
   ],
   "source": [
    "# 插入和删除元素\n",
    "\n",
    "# 清空列表\n",
    "nums.clear()\n",
    "\n",
    "# 在尾部添加元素\n",
    "nums.append(1)\n",
    "nums.append(2)\n",
    "nums.append(3)\n",
    "nums.append(4)\n",
    "nums.append(5)\n",
    "\n",
    "# 在中间插入元素，在索引 3 处插入数字 6\n",
    "nums.insert(3, 6)\n",
    "\n",
    "# 删除元素，删除索引 3 处的元素\n",
    "nums.pop(3)"
   ]
  },
  {
   "cell_type": "code",
   "execution_count": 5,
   "metadata": {},
   "outputs": [
    {
     "name": "stdout",
     "output_type": "stream",
     "text": [
      "1 2 3 4 5 \n",
      "1 2 3 4 5 "
     ]
    }
   ],
   "source": [
    "# 遍历列表\n",
    "\n",
    "# 通过索引遍历列表\n",
    "for i in range(len(nums)):\n",
    "    print(nums[i], end=\" \")\n",
    "\n",
    "print()\n",
    "\n",
    "# 直接遍历列表\n",
    "for num in nums:\n",
    "    print(num, end=\" \")"
   ]
  },
  {
   "cell_type": "code",
   "execution_count": 6,
   "metadata": {},
   "outputs": [],
   "source": [
    "# 拼接列表\n",
    "nums1: list[int] = [6, 8, 7, 10, 9]\n",
    "# 将 nums1 拼接到 nums 之后\n",
    "nums += nums1"
   ]
  },
  {
   "cell_type": "code",
   "execution_count": 7,
   "metadata": {},
   "outputs": [
    {
     "data": {
      "text/plain": [
       "[1, 2, 3, 4, 5, 6, 7, 8, 9, 10]"
      ]
     },
     "execution_count": 7,
     "metadata": {},
     "output_type": "execute_result"
    }
   ],
   "source": [
    "# 排序列表，从小到大排列\n",
    "nums.sort()\n",
    "\n",
    "nums"
   ]
  },
  {
   "cell_type": "code",
   "execution_count": 8,
   "metadata": {},
   "outputs": [],
   "source": [
    "# 列表实现\n",
    "# 初始容量、数量记录、扩容机制\n",
    "class MyList:\n",
    "    \"\"\"列表类\"\"\"\n",
    "\n",
    "    def __init__(self):\n",
    "        \"\"\"构造方法\"\"\"\n",
    "        # _表示该变量是类的私有属性，不应该在类的外部直接访问或修改\n",
    "        self._capacity: int = 10  # 列表容量\n",
    "        self._arr: list[int] = [0] * self._capacity  # 数组（存储列表元素）\n",
    "        self._size: int = 0  # 列表长度（当前元素数量）\n",
    "        self._extend_ratio: int = 2  # 每次列表扩容的倍数\n",
    "\n",
    "    def size(self) -> int:\n",
    "        \"\"\"获取列表长度（当前元素数量）\"\"\"\n",
    "        return self._size\n",
    "\n",
    "    def capacity(self) -> int:\n",
    "        \"\"\"获取列表容量\"\"\"\n",
    "        return self._capacity\n",
    "\n",
    "    def get(self, index: int):\n",
    "        \"\"\"访问元素\"\"\"\n",
    "        # 索引如果越界，则抛出异常\n",
    "        if index < 0 or index >= self._size:\n",
    "            raise IndexError(\"索引越界\")\n",
    "        return self._arr[index]\n",
    "\n",
    "    def set(self, num: int, index: int):\n",
    "        \"\"\"更新元素\"\"\"\n",
    "        # 索引如果越界，则抛出异常\n",
    "        if index < 0 or index >= self._size:\n",
    "            raise IndexError(\"索引越界\")\n",
    "        self._arr[index] = num\n",
    "\n",
    "    def extend_capacity(self):\n",
    "        \"\"\"列表扩容\"\"\"\n",
    "        # 新建一个长度为原数组 _extend_ratio 倍的新数组，并将原数组复制到新数组\n",
    "        # ! 使用 + 将两个列表合并为一个新的列表\n",
    "        self._arr = self._arr + [0] * self.capacity() * (self._extend_ratio - 1)\n",
    "        # 更新列表容量\n",
    "        self._capacity = len(self._arr)\n",
    "\n",
    "    def add(self, num: int):\n",
    "        \"\"\"在尾部添加元素\"\"\"\n",
    "        # 元素数量超出容量时，触发扩容机制\n",
    "        if self.size() == self.capacity():\n",
    "            self.extend_capacity()\n",
    "        self._arr[self._size] = num\n",
    "        # !\n",
    "        self._size += 1\n",
    "\n",
    "    def insert(self, index: int, num: int):\n",
    "        \"\"\"在中间插入元素\"\"\"\n",
    "        # 索引如果越界，抛出异常\n",
    "        if index < 0 or index >= self.size():\n",
    "            raise IndexError(\"索引越界\")\n",
    "        # 元素数量超出容量时，触发扩容机制\n",
    "        if self.size() == self._capacity:\n",
    "            self.extend_capacity()\n",
    "        # 将索引 index 以及之后的元素都向后移动一位\n",
    "        # !，index - 1，要将 index 位置的元素也向后移一位\n",
    "        for i in range(self.size() - 1, index - 1, -1):\n",
    "            self._arr[i + 1] = self._arr[i]\n",
    "        self._arr[index] = num\n",
    "        self._size += 1\n",
    "\n",
    "    def remove(self, index: int) -> int:\n",
    "        \"\"\"删除元素\"\"\"\n",
    "        if index < 0 or index >= self._size:\n",
    "            raise IndexError(\"索引越界\")\n",
    "        num = self._arr[index]\n",
    "        # 将 index 之后的所有元素向前移动一位\n",
    "        for i in range(index, self.size() - 1):\n",
    "            self._arr[i] = self._arr[i + 1]\n",
    "        # 更新元素数量\n",
    "        self._size += 1\n",
    "        # 返回被删除的元素\n",
    "        return num\n",
    "\n",
    "    def to_array(self) -> list[int]:\n",
    "        \"\"\" \"返回有效长度的列表\"\"\"\n",
    "        # ! [:self.size()]是左闭右开的\n",
    "        return self._arr[: self.size()]"
   ]
  }
 ],
 "metadata": {
  "kernelspec": {
   "display_name": "base",
   "language": "python",
   "name": "python3"
  },
  "language_info": {
   "codemirror_mode": {
    "name": "ipython",
    "version": 3
   },
   "file_extension": ".py",
   "mimetype": "text/x-python",
   "name": "python",
   "nbconvert_exporter": "python",
   "pygments_lexer": "ipython3",
   "version": "3.10.16"
  }
 },
 "nbformat": 4,
 "nbformat_minor": 2
}

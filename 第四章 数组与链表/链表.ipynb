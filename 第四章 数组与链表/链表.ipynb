{
 "cells": [
  {
   "cell_type": "markdown",
   "metadata": {},
   "source": [
    "1. 内存空间是所有程序的公共空间，空闲的内存空间可能散落在内存各处。\n",
    "2. 链表的设计使得各个节点可以分散存储在内存各处，它们的内存地址无须连续\n",
    "3. 链表的组成单位是节点（node）对象：节点的值和指向下一个节点的引用\n",
    "4. 链表比数组占用更多的内存空间"
   ]
  },
  {
   "cell_type": "code",
   "execution_count": null,
   "metadata": {},
   "outputs": [],
   "source": [
    "# 链表定义\n",
    "class ListNode:\n",
    "    \"\"\"链表节点类\"\"\"\n",
    "    def __init__(self, val: int):\n",
    "        # 节点值\n",
    "        self.val: int = val \n",
    "        # 指向下一节点的引用\n",
    "        # Python 3.10及更高版本中，ListNode | None 表示 self.next 的类型可以是 ListNode 类型（指向下一个节点），也可以是 None（表示当前节点是链表的尾节点，没有下一个节点）。\n",
    "        # = None，表示默认值是 None\n",
    "        self.next: ListNode | None = None "
   ]
  },
  {
   "cell_type": "code",
   "execution_count": null,
   "metadata": {},
   "outputs": [],
   "source": [
    "# 初始化链表\n",
    "# 第一步初始化各个节点对象\n",
    "n0 = ListNode(1)\n",
    "n1 = ListNode(2)\n",
    "n2 = ListNode(3)\n",
    "n3 = ListNode(4)\n",
    "n4 = ListNode(5)\n",
    "# 第二步构建节点之间的引用关系\n",
    "n0.next = n1\n",
    "n1.next = n2\n",
    "n2.next = n3\n",
    "n3.next = n4\n"
   ]
  }
 ],
 "metadata": {
  "language_info": {
   "name": "python"
  }
 },
 "nbformat": 4,
 "nbformat_minor": 2
}

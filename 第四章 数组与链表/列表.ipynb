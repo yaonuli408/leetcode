{
 "cells": [
  {
   "cell_type": "markdown",
   "metadata": {},
   "source": [
    "1. 列表，表示元素的有序集合，无须使用者考虑容量限制的问题，列表可以基于链表或数组实现，**可以存储任意类型的元素**\n",
    "2. 为解决数组长度不可变的性质会导致列表的实用性降低的问题，使用**动态数组**来实现列表，**每个元素存储的是指向实际对象的指针**\n",
    "3. 许多编程语言中的标准库提供的列表是基于动态数组实现的"
   ]
  },
  {
   "cell_type": "code",
   "execution_count": 2,
   "metadata": {},
   "outputs": [],
   "source": [
    "# 初始化列表\n",
    "# 无初始值\n",
    "nums1: list[int] = []\n",
    "# 有初始值\n",
    "nums: list[int] = [1, 3, 2, 5, 4]"
   ]
  },
  {
   "cell_type": "code",
   "execution_count": 3,
   "metadata": {},
   "outputs": [],
   "source": [
    "# 访问元素\n",
    "num: int = nums[1]\n",
    "\n",
    "# 更新元素\n",
    "nums[1] = 0"
   ]
  },
  {
   "cell_type": "code",
   "execution_count": null,
   "metadata": {},
   "outputs": [
    {
     "data": {
      "text/plain": [
       "6"
      ]
     },
     "execution_count": 4,
     "metadata": {},
     "output_type": "execute_result"
    }
   ],
   "source": [
    "# 插入和删除元素\n",
    "\n",
    "# 清空列表\n",
    "nums.clear()\n",
    "\n",
    "# 在尾部添加元素\n",
    "nums.append(1)\n",
    "nums.append(2)\n",
    "nums.append(3)\n",
    "nums.append(4)\n",
    "nums.append(5)\n",
    "\n",
    "# 在中间插入元素，在索引 3 处插入数字 6\n",
    "nums.insert(3, 6)\n",
    "\n",
    "# 删除元素，删除索引 3 处的元素\n",
    "nums.pop(3)"
   ]
  },
  {
   "cell_type": "code",
   "execution_count": null,
   "metadata": {},
   "outputs": [
    {
     "name": "stdout",
     "output_type": "stream",
     "text": [
      "1 2 3 4 5 \n",
      "1 2 3 4 5 "
     ]
    }
   ],
   "source": [
    "# 遍历列表\n",
    "\n",
    "# 通过索引遍历列表\n",
    "for i in range(len(nums)):\n",
    "    print(nums[i], end=\" \")\n",
    "\n",
    "print()\n",
    "\n",
    "# 直接遍历列表\n",
    "for num in nums:\n",
    "    print(num, end=\" \")"
   ]
  },
  {
   "cell_type": "code",
   "execution_count": 6,
   "metadata": {},
   "outputs": [],
   "source": [
    "# 拼接列表\n",
    "nums1: list[int] = [6, 8, 7, 10, 9]\n",
    "# 将 nums1 拼接到 nums 之后\n",
    "nums += nums1"
   ]
  },
  {
   "cell_type": "code",
   "execution_count": null,
   "metadata": {},
   "outputs": [
    {
     "data": {
      "text/plain": [
       "[1, 2, 3, 4, 5, 6, 7, 8, 9, 10]"
      ]
     },
     "execution_count": 8,
     "metadata": {},
     "output_type": "execute_result"
    }
   ],
   "source": [
    "# 排序列表，从小到大排列\n",
    "nums.sort()\n",
    "\n",
    "nums"
   ]
  },
  {
   "cell_type": "code",
   "execution_count": null,
   "metadata": {},
   "outputs": [],
   "source": [
    "# 列表实现\n",
    "# 初始容量、数量记录、扩容机制\n",
    "class MyList:\n",
    "    pass"
   ]
  }
 ],
 "metadata": {
  "kernelspec": {
   "display_name": "base",
   "language": "python",
   "name": "python3"
  },
  "language_info": {
   "codemirror_mode": {
    "name": "ipython",
    "version": 3
   },
   "file_extension": ".py",
   "mimetype": "text/x-python",
   "name": "python",
   "nbconvert_exporter": "python",
   "pygments_lexer": "ipython3",
   "version": "3.10.16"
  }
 },
 "nbformat": 4,
 "nbformat_minor": 2
}

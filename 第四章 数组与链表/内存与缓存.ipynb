{
 "cells": [
  {
   "cell_type": "markdown",
   "metadata": {},
   "source": [
    "1. 物理结构在很大程度上决定了程序对内存和缓存的使用效率\n",
    "2. 硬盘用于长期存储大量数据，内存用于临时存储程序运行中正在处理的数据，而缓存则用于存储经常访问的数据和指令\n",
    "3. 内存是有限的，且同一块内存不能被多个程序共享\n",
    "4. 随着反复申请与释放内存，空闲内存的碎片化程度会越来越高\n"
   ]
  }
 ],
 "metadata": {
  "language_info": {
   "name": "python"
  }
 },
 "nbformat": 4,
 "nbformat_minor": 2
}

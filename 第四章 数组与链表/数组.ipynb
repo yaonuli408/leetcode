{
 "cells": [
  {
   "cell_type": "markdown",
   "metadata": {},
   "source": [
    "数组（array）是一种线性数据结构，其将相同类型的元素存储在连续的内存空间中。"
   ]
  },
  {
   "cell_type": "code",
   "execution_count": 24,
   "metadata": {},
   "outputs": [
    {
     "data": {
      "text/plain": [
       "array([6.23042070e-307, 4.67296746e-307, 1.69121096e-306, 1.00132398e-307,\n",
       "       1.89146896e-307, 7.56571288e-307, 3.11525958e-307, 1.24610723e-306,\n",
       "       1.29061142e-306, 5.53353523e-322])"
      ]
     },
     "execution_count": 24,
     "metadata": {},
     "output_type": "execute_result"
    }
   ],
   "source": [
    "# 初始化数组：无初始值、给定初始值\n",
    "# arr: list[int] 类型注解，Python3.5以上版本中的特性\n",
    "\n",
    "# 无初始值\n",
    "arr: list[int] = []\n",
    "size = 10\n",
    "my_list: list[int] = [None] * size\n",
    "\n",
    "# 给定初始值\n",
    "nums: list[int] = [1, 2, 3, 4, 5]\n",
    "\n",
    "# Numpy空数组\n",
    "import numpy as np\n",
    "\n",
    "my_array = np.empty(size)\n",
    "# np.empty()创建数组时，只分配内存，但不会对数组内的元素进行初始化，数组中的值是内存中已有的残留值\n",
    "my_array"
   ]
  },
  {
   "cell_type": "code",
   "execution_count": 25,
   "metadata": {},
   "outputs": [
    {
     "name": "stdout",
     "output_type": "stream",
     "text": [
      "3\n"
     ]
    }
   ],
   "source": [
    "# 访问元素\n",
    "# 元素内存地址 = 数组内存地址 + 元素长度 * 元素索引\n",
    "# 索引本质上是内存地址的偏移量\n",
    "import random\n",
    "\n",
    "\n",
    "def random_access(nums: list[int]) -> int:\n",
    "    \"\"\"随机访问元素\"\"\"\n",
    "    # 在区间[0, len(nums) - 1]中生成一个随机数\n",
    "    random_index = random.randint(0, len(nums) - 1)\n",
    "    # 获取并返回随机数\n",
    "    return nums[random_index]\n",
    "\n",
    "\n",
    "print(random_access(nums))"
   ]
  },
  {
   "cell_type": "code",
   "execution_count": 26,
   "metadata": {},
   "outputs": [
    {
     "name": "stdout",
     "output_type": "stream",
     "text": [
      "[1, 6, 2, 3, 4]\n"
     ]
    }
   ],
   "source": [
    "# 插入元素，会丢失数组尾部元素\n",
    "def insert(nums: list[int], num: int, index: int):\n",
    "    \"\"\"在数组的索引 index 处插入元素 num\"\"\"\n",
    "    for i in range(len(nums) - 1, index, -1):\n",
    "        nums[i] = nums[i - 1]\n",
    "    nums[index] = num\n",
    "    \n",
    "insert(nums, 6, 1)\n",
    "print(nums) "
   ]
  },
  {
   "cell_type": "code",
   "execution_count": null,
   "metadata": {},
   "outputs": [
    {
     "name": "stdout",
     "output_type": "stream",
     "text": [
      "2\n",
      "3\n",
      "4\n",
      "[1, 2, 3, 4, 4]\n"
     ]
    }
   ],
   "source": [
    "# 删除元素，把索引 i 之后的元素都向前移动一位\n",
    "# 删除元素后，原先末尾的元素变得“无意义”了，所以我们无序特意去修改它\n",
    "def remove(nums: list[int], index: int):\n",
    "    \"\"\"删除索引 index 处的元素\"\"\"\n",
    "    # 把索引 index 之后的所有元素向前移动一位\n",
    "    for i in range(index, len(nums) - 1):\n",
    "        nums[i] = nums[i + 1]\n",
    "\n",
    "remove(nums, 1)\n",
    "print(nums)"
   ]
  },
  {
   "cell_type": "code",
   "execution_count": 31,
   "metadata": {},
   "outputs": [
    {
     "name": "stdout",
     "output_type": "stream",
     "text": [
      "14\n",
      "28\n",
      "56\n",
      "56\n"
     ]
    }
   ],
   "source": [
    "# 遍历数组\n",
    "def traverse(nums: list[int]):\n",
    "    \"\"\"遍历数组\"\"\"\n",
    "    count = 0\n",
    "    # 通过索引遍历数组\n",
    "    for i in range(len(nums)):\n",
    "        count += nums[i]\n",
    "    print(count)\n",
    "    # 直接遍历数组元素\n",
    "    for num in nums:\n",
    "        count += num\n",
    "    print(count)\n",
    "    # 同时遍历数据索引和元素\n",
    "    for i, num in enumerate(nums):\n",
    "        count += nums[i]\n",
    "        count += num\n",
    "    print(count)\n",
    "    return count\n",
    "\n",
    "print(traverse(nums))"
   ]
  },
  {
   "cell_type": "code",
   "execution_count": null,
   "metadata": {},
   "outputs": [
    {
     "name": "stdout",
     "output_type": "stream",
     "text": [
      "2\n"
     ]
    }
   ],
   "source": [
    "# 查找元素：线性查找\n",
    "def find(nums: list[int], target: int) -> int:\n",
    "    \"\"\"在数组中查找指定元素\"\"\"\n",
    "    for i in range(len(nums)):\n",
    "        if target == nums[i]:\n",
    "            return i\n",
    "    return -1\n",
    "\n",
    "print(find(nums, 3))"
   ]
  },
  {
   "cell_type": "code",
   "execution_count": 33,
   "metadata": {},
   "outputs": [
    {
     "name": "stdout",
     "output_type": "stream",
     "text": [
      "[1, 2, 3, 4, 4, 0]\n"
     ]
    }
   ],
   "source": [
    "# 扩容数组，在复杂的系统环境中，程序难以保证数组之后的内存空间是可用的，从而无法安全地扩展数组容量。\n",
    "# 所以在大多数编程语言中，数据的长度是不可变的\n",
    "# 如果我们希望扩容数组，则需重新建立一个更大的数组，然后把原数组元素依次复制的新数组\n",
    "def extend(nums: list[int], enlarge: int) -> list[int]:\n",
    "    \"\"\"扩展数组长度\"\"\"\n",
    "    # 初始化一个扩展长度后的数组\n",
    "    res = [0] * enlarge\n",
    "    for i, num in enumerate(nums):\n",
    "        res[i] = num\n",
    "    return res\n",
    "\n",
    "print(extend(nums, 6))"
   ]
  },
  {
   "cell_type": "markdown",
   "metadata": {},
   "source": [
    "## 数组的优点与局限性\n",
    "### 优点\n",
    "1. 空间效率高\n",
    "2. 支持随机访问\n",
    "3. 缓存局部性\n",
    "### 缺点\n",
    "1. 插入与删除效率低\n",
    "2. 长度不可变\n",
    "3. 空间浪费\n",
    "\n",
    "## 数组的典型应用\n",
    "1. 随机访问\n",
    "2. 排序和搜索\n",
    "3. 查找表\n",
    "4. 机器学习\n",
    "5. 数据结构实现\n",
    "\n",
    "\n"
   ]
  }
 ],
 "metadata": {
  "kernelspec": {
   "display_name": "d2l",
   "language": "python",
   "name": "python3"
  },
  "language_info": {
   "codemirror_mode": {
    "name": "ipython",
    "version": 3
   },
   "file_extension": ".py",
   "mimetype": "text/x-python",
   "name": "python",
   "nbconvert_exporter": "python",
   "pygments_lexer": "ipython3",
   "version": "3.9.20"
  }
 },
 "nbformat": 4,
 "nbformat_minor": 2
}

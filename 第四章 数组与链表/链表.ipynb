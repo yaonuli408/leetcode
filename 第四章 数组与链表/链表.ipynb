{
 "cells": [
  {
   "cell_type": "markdown",
   "metadata": {},
   "source": [
    "1. 内存空间是所有程序的公共空间，空闲的内存空间可能散落在内存各处。\n",
    "2. 链表的设计使得各个节点可以分散存储在内存各处，它们的内存地址无须连续\n",
    "3. 链表的组成单位是节点（node）对象：节点的值和指向下一个节点的引用\n",
    "4. 链表比数组占用更多的内存空间"
   ]
  },
  {
   "cell_type": "code",
   "execution_count": null,
   "metadata": {},
   "outputs": [],
   "source": [
    "# 链表定义\n",
    "class ListNode:\n",
    "    \"\"\"链表节点类\"\"\"\n",
    "    def __init__(self, val: int):\n",
    "        # 节点值\n",
    "        self.val: int = val\n",
    "        # 指向下一节点的引用\n",
    "        # Python 3.10及更高版本中，ListNode | None 表示 self.next 的类型可以是 ListNode 类型（指向下一个节点），也可以是 None（表示当前节点是链表的尾节点，没有下一个节点）。\n",
    "        # = None，表示默认值是 None\n",
    "        self.next: ListNode | None = None"
   ]
  },
  {
   "cell_type": "code",
   "execution_count": 2,
   "metadata": {},
   "outputs": [],
   "source": [
    "# 初始化链表\n",
    "# 第一步初始化各个节点对象\n",
    "n0 = ListNode(1)\n",
    "n1 = ListNode(2)\n",
    "n2 = ListNode(3)\n",
    "n3 = ListNode(4)\n",
    "n4 = ListNode(5)\n",
    "# 第二步构建节点之间的引用关系\n",
    "n0.next = n1\n",
    "n1.next = n2\n",
    "n2.next = n3\n",
    "n3.next = n4"
   ]
  },
  {
   "cell_type": "code",
   "execution_count": null,
   "metadata": {},
   "outputs": [
    {
     "name": "stdout",
     "output_type": "stream",
     "text": [
      "1 2 3 4 5 "
     ]
    }
   ],
   "source": [
    "# 遍历链表\n",
    "def traverse(head: ListNode):\n",
    "    while head:\n",
    "        print(head.val, end=\" \")\n",
    "        head = head.next\n",
    "    return\n",
    "\n",
    "\n",
    "traverse(n0)"
   ]
  },
  {
   "cell_type": "code",
   "execution_count": null,
   "metadata": {},
   "outputs": [
    {
     "name": "stdout",
     "output_type": "stream",
     "text": [
      "1 -1 2 3 4 5 "
     ]
    }
   ],
   "source": [
    "# 插入节点，只需改变两个节点引用即可\n",
    "def insert(n0: ListNode, p: ListNode):\n",
    "    \"\"\"在链表的节点 n0 之后插入节点 P\"\"\"\n",
    "    p.next = n1\n",
    "    n0.next = p\n",
    "\n",
    "\n",
    "p = ListNode(-1)\n",
    "insert(n0, p)\n",
    "traverse(n0)"
   ]
  },
  {
   "cell_type": "code",
   "execution_count": null,
   "metadata": {},
   "outputs": [
    {
     "name": "stdout",
     "output_type": "stream",
     "text": [
      "1 2 3 4 5 "
     ]
    }
   ],
   "source": [
    "# 删除节点，只需改变一个节点的引用即可\n",
    "def remove(n0: ListNode):\n",
    "    \"\"\"删除链表节点 n0 后的首个节点\"\"\"\n",
    "    if not n0.next:\n",
    "        return\n",
    "    n0.next = n0.next.next\n",
    "\n",
    "\n",
    "remove(n0)\n",
    "traverse(n0)"
   ]
  },
  {
   "cell_type": "code",
   "execution_count": null,
   "metadata": {},
   "outputs": [
    {
     "data": {
      "text/plain": [
       "<__main__.ListNode at 0x1aa3bf5a320>"
      ]
     },
     "execution_count": 6,
     "metadata": {},
     "output_type": "execute_result"
    }
   ],
   "source": [
    "# 访问节点，在列表中访问节点的效率较低\n",
    "def access(head: ListNode, index: int) -> ListNode | None:\n",
    "    \"\"\"访问链表中索引为 index 的节点\"\"\"\n",
    "    for _ in range(index):\n",
    "        if not head:\n",
    "            return None\n",
    "        head = head.next\n",
    "    return head\n",
    "\n",
    "\n",
    "access(n0, 3)"
   ]
  },
  {
   "cell_type": "code",
   "execution_count": null,
   "metadata": {},
   "outputs": [
    {
     "data": {
      "text/plain": [
       "2"
      ]
     },
     "execution_count": 7,
     "metadata": {},
     "output_type": "execute_result"
    }
   ],
   "source": [
    "# 查找节点\n",
    "def find(head: ListNode, target: int) -> int:\n",
    "    \"\"\"在链表中查找值为 target 的首个节点\"\"\"\n",
    "    index = 0\n",
    "    while head:\n",
    "        if head.val == target:\n",
    "            return index\n",
    "        head = head.next\n",
    "        index += 1\n",
    "    return -1\n",
    "\n",
    "\n",
    "find(n0, 3)"
   ]
  },
  {
   "cell_type": "markdown",
   "metadata": {},
   "source": [
    "### 常见列表类型\n",
    "1. 单向链表\n",
    "2. 环形链表\n",
    "3. 双向链表"
   ]
  },
  {
   "cell_type": "code",
   "execution_count": null,
   "metadata": {},
   "outputs": [],
   "source": [
    "class ListNode:\n",
    "    \"\"\"双向链表节点类\"\"\"\n",
    "    def __init__(self, val: int):\n",
    "        self.val = val\n",
    "        self.next: ListNode | None = None\n",
    "        self.prev: ListNode | None = None"
   ]
  },
  {
   "cell_type": "code",
   "execution_count": null,
   "metadata": {},
   "outputs": [],
   "source": [
    "class Node:\n",
    "    def __init__(self, val: int):\n",
    "        self.val: int = val\n",
    "        self.next: ListNode | None = None\n",
    "\n",
    "\n",
    "class LinkedList:\n",
    "    def __init__(self):\n",
    "        self.head = None  # 指向第一个节点的指针\n",
    "\n",
    "    def append(self, data):\n",
    "        new_node = Node(data)\n",
    "        if self.head == None:\n",
    "            self.head = new_node\n",
    "            return\n",
    "        last = self.head\n",
    "        while last.next:\n",
    "            last = last.next\n",
    "        last.next = new_node\n",
    "\n",
    "    def traverse(self):\n",
    "        \"\"\"迭代法遍历链表\"\"\"\n",
    "        current = self.head\n",
    "        while current:\n",
    "            print(current.val, end=\" \")\n",
    "            current = current.next\n",
    "\n",
    "    def __iter__(self):\n",
    "        \"\"\"迭代器法遍历链表\"\"\"\n",
    "        node = self.head\n",
    "        while node:\n",
    "            yield node\n",
    "            node = node.next"
   ]
  },
  {
   "cell_type": "code",
   "execution_count": 14,
   "metadata": {},
   "outputs": [
    {
     "name": "stdout",
     "output_type": "stream",
     "text": [
      "10 20 30 \n",
      "10 20 30 "
     ]
    }
   ],
   "source": [
    "list = LinkedList()\n",
    "list.append(10)\n",
    "list.append(20)\n",
    "list.append(30)\n",
    "\n",
    "list.traverse()\n",
    "\n",
    "print()\n",
    "\n",
    "for node in list:\n",
    "    print(node.val, end=\" \")"
   ]
  }
 ],
 "metadata": {
  "kernelspec": {
   "display_name": "base",
   "language": "python",
   "name": "python3"
  },
  "language_info": {
   "codemirror_mode": {
    "name": "ipython",
    "version": 3
   },
   "file_extension": ".py",
   "mimetype": "text/x-python",
   "name": "python",
   "nbconvert_exporter": "python",
   "pygments_lexer": "ipython3",
   "version": "3.10.16"
  }
 },
 "nbformat": 4,
 "nbformat_minor": 2
}
